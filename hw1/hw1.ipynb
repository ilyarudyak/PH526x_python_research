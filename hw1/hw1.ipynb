{
 "cells": [
  {
   "cell_type": "code",
   "execution_count": 1,
   "metadata": {
    "collapsed": true
   },
   "outputs": [],
   "source": [
    "import string"
   ]
  },
  {
   "cell_type": "code",
   "execution_count": 2,
   "metadata": {
    "collapsed": true
   },
   "outputs": [],
   "source": [
    "alphabet = string.ascii_letters"
   ]
  },
  {
   "cell_type": "code",
   "execution_count": 3,
   "metadata": {
    "collapsed": false
   },
   "outputs": [
    {
     "data": {
      "text/plain": [
       "'abcdefghijklmnopqrstuvwxyzABCDEFGHIJKLMNOPQRSTUVWXYZ'"
      ]
     },
     "execution_count": 3,
     "metadata": {},
     "output_type": "execute_result"
    }
   ],
   "source": [
    "alphabet"
   ]
  },
  {
   "cell_type": "code",
   "execution_count": 4,
   "metadata": {
    "collapsed": true
   },
   "outputs": [],
   "source": [
    "sentence = 'Jim quickly realized that the beautiful gowns are expensive'"
   ]
  },
  {
   "cell_type": "markdown",
   "metadata": {},
   "source": [
    "see examples of counters: http://codereview.stackexchange.com/questions/27781/counting-letters-in-a-string-python-optimisation"
   ]
  },
  {
   "cell_type": "code",
   "execution_count": 32,
   "metadata": {
    "collapsed": true
   },
   "outputs": [],
   "source": [
    "def counter_old(input_string):\n",
    "    count_letters = {}\n",
    "    for letter in input_string:\n",
    "        if letter in alphabet:\n",
    "            if letter in count_letters:\n",
    "                count_letters[letter] += 1\n",
    "            else:\n",
    "                count_letters[letter] = 1\n",
    "    return count_letters"
   ]
  },
  {
   "cell_type": "code",
   "execution_count": 33,
   "metadata": {
    "collapsed": false
   },
   "outputs": [
    {
     "name": "stdout",
     "output_type": "stream",
     "text": [
      "{'w': 1, 'h': 2, 'b': 1, 'c': 1, 'y': 1, 'u': 3, 'd': 1, 'z': 1, 's': 2, 'o': 1, 'r': 2, 'm': 1, 'a': 4, 'i': 5, 't': 4, 'n': 2, 'k': 1, 'p': 1, 'e': 8, 'J': 1, 'g': 1, 'l': 3, 'f': 1, 'q': 1, 'x': 1, 'v': 1}\n"
     ]
    }
   ],
   "source": [
    "print(counter_old(sentence))"
   ]
  },
  {
   "cell_type": "code",
   "execution_count": 7,
   "metadata": {
    "collapsed": true
   },
   "outputs": [],
   "source": [
    "def counter2(input_string):\n",
    "    count_letters = {}\n",
    "    for letter in input_string:\n",
    "        if letter in alphabet:\n",
    "                count_letters[letter] = count_letters.get(letter, 0) + 1\n",
    "    return count_letters"
   ]
  },
  {
   "cell_type": "code",
   "execution_count": 8,
   "metadata": {
    "collapsed": false
   },
   "outputs": [
    {
     "name": "stdout",
     "output_type": "stream",
     "text": [
      "{'w': 1, 'h': 2, 'b': 1, 'c': 1, 'y': 1, 'u': 3, 'd': 1, 'z': 1, 's': 2, 'o': 1, 'r': 2, 'm': 1, 'a': 4, 'i': 5, 't': 4, 'n': 2, 'k': 1, 'p': 1, 'e': 8, 'J': 1, 'g': 1, 'l': 3, 'f': 1, 'q': 1, 'x': 1, 'v': 1}\n"
     ]
    }
   ],
   "source": [
    "print(counter2(sentence))"
   ]
  },
  {
   "cell_type": "code",
   "execution_count": 9,
   "metadata": {
    "collapsed": true
   },
   "outputs": [],
   "source": [
    "from collections import Counter"
   ]
  },
  {
   "cell_type": "code",
   "execution_count": 20,
   "metadata": {
    "collapsed": false
   },
   "outputs": [],
   "source": [
    "def counter3(input_string):\n",
    "    counter = Counter()\n",
    "    for letter in input_string:\n",
    "        if letter in alphabet:\n",
    "            counter[letter] += 1 \n",
    "    return dict(counter)"
   ]
  },
  {
   "cell_type": "code",
   "execution_count": 21,
   "metadata": {
    "collapsed": false
   },
   "outputs": [
    {
     "name": "stdout",
     "output_type": "stream",
     "text": [
      "{'k': 1, 'h': 2, 'b': 1, 'c': 1, 'y': 1, 'u': 3, 'd': 1, 'z': 1, 'f': 1, 'o': 1, 'r': 2, 'm': 1, 'a': 4, 't': 4, 'i': 5, 'n': 2, 'w': 1, 'p': 1, 'e': 8, 'J': 1, 'g': 1, 'l': 3, 's': 2, 'q': 1, 'x': 1, 'v': 1}\n"
     ]
    }
   ],
   "source": [
    "print(counter3(sentence))"
   ]
  },
  {
   "cell_type": "code",
   "execution_count": 17,
   "metadata": {
    "collapsed": true
   },
   "outputs": [],
   "source": [
    "def counter4(input_string):\n",
    "    return {letter: input_string.count(letter) for letter in alphabet if letter in input_string}"
   ]
  },
  {
   "cell_type": "code",
   "execution_count": 18,
   "metadata": {
    "collapsed": false
   },
   "outputs": [
    {
     "name": "stdout",
     "output_type": "stream",
     "text": [
      "{'k': 1, 'h': 2, 'b': 1, 'c': 1, 'y': 1, 'u': 3, 'd': 1, 'x': 1, 'f': 1, 'o': 1, 'w': 1, 'r': 2, 'z': 1, 'm': 1, 'a': 4, 't': 4, 'i': 5, 'n': 2, 'e': 8, 'p': 1, 'J': 1, 'g': 1, 'l': 3, 's': 2, 'q': 1, 'v': 1}\n"
     ]
    }
   ],
   "source": [
    "print(counter4(sentence))"
   ]
  },
  {
   "cell_type": "code",
   "execution_count": 22,
   "metadata": {
    "collapsed": true
   },
   "outputs": [],
   "source": [
    "import re"
   ]
  },
  {
   "cell_type": "code",
   "execution_count": 24,
   "metadata": {
    "collapsed": true
   },
   "outputs": [],
   "source": [
    "sentence2 = 'Hello my friend, Goodbye!'"
   ]
  },
  {
   "cell_type": "code",
   "execution_count": 27,
   "metadata": {
    "collapsed": true
   },
   "outputs": [],
   "source": [
    "sentence2 = re.sub('[^a-zA-Z]', '', sentence2)"
   ]
  },
  {
   "cell_type": "code",
   "execution_count": 28,
   "metadata": {
    "collapsed": false
   },
   "outputs": [
    {
     "data": {
      "text/plain": [
       "'HellomyfriendGoodbye'"
      ]
     },
     "execution_count": 28,
     "metadata": {},
     "output_type": "execute_result"
    }
   ],
   "source": [
    "sentence2"
   ]
  },
  {
   "cell_type": "code",
   "execution_count": 39,
   "metadata": {
    "collapsed": true
   },
   "outputs": [],
   "source": [
    "def counter(input_string):\n",
    "    input_string = re.sub('[^a-zA-Z]', '', input_string)\n",
    "    return Counter(input_string)"
   ]
  },
  {
   "cell_type": "code",
   "execution_count": 40,
   "metadata": {
    "collapsed": false,
    "scrolled": false
   },
   "outputs": [
    {
     "name": "stdout",
     "output_type": "stream",
     "text": [
      "Counter({'e': 8, 'i': 5, 'a': 4, 't': 4, 'u': 3, 'l': 3, 'h': 2, 's': 2, 'r': 2, 'n': 2, 'w': 1, 'b': 1, 'c': 1, 'y': 1, 'd': 1, 'z': 1, 'o': 1, 'm': 1, 'k': 1, 'p': 1, 'J': 1, 'g': 1, 'f': 1, 'q': 1, 'x': 1, 'v': 1})\n"
     ]
    }
   ],
   "source": [
    "print(counter(sentence))"
   ]
  },
  {
   "cell_type": "code",
   "execution_count": 41,
   "metadata": {
    "collapsed": true
   },
   "outputs": [],
   "source": [
    "address = \"Fourscore and seven years ago our fathers brought forth, on this continent, a new nation, conceived in liberty, and dedicated to the proposition that all men are created equal. Now we are engaged in a great civil war, testing whether that nation, or any nation so conceived, and so dedicated, can long endure. We are met on a great battle-field of that war. We have come to dedicate a portion of that field, as a final resting-place for those who here gave their lives, that that nation might live. It is altogether fitting and proper that we should do this. But, in a larger sense, we cannot dedicate, we cannot consecrate—we cannot hallow—this ground. The brave men, living and dead, who struggled here, have consecrated it far above our poor power to add or detract. The world will little note, nor long remember what we say here, but it can never forget what they did here. It is for us the living, rather, to be dedicated here to the unfinished work which they who fought here have thus far so nobly advanced. It is rather for us to be here dedicated to the great task remaining before us—that from these honored dead we take increased devotion to that cause for which they here gave the last full measure of devotion—that we here highly resolve that these dead shall not have died in vain—that this nation, under God, shall have a new birth of freedom, and that government of the people, by the people, for the people, shall not perish from the earth.\""
   ]
  },
  {
   "cell_type": "code",
   "execution_count": 42,
   "metadata": {
    "collapsed": false
   },
   "outputs": [
    {
     "name": "stdout",
     "output_type": "stream",
     "text": [
      "Counter({'e': 167, 't': 124, 'a': 102, 'o': 93, 'h': 81, 'r': 80, 'n': 76, 'i': 65, 'd': 58, 's': 44, 'l': 42, 'c': 31, 'g': 27, 'w': 26, 'f': 26, 'v': 24, 'u': 21, 'p': 15, 'b': 13, 'm': 13, 'y': 10, 'k': 3, 'I': 3, 'T': 2, 'W': 2, 'F': 1, 'G': 1, 'B': 1, 'N': 1, 'q': 1})\n"
     ]
    }
   ],
   "source": [
    "address_count = counter(address)\n",
    "print(address_count)"
   ]
  },
  {
   "cell_type": "code",
   "execution_count": 43,
   "metadata": {
    "collapsed": false
   },
   "outputs": [
    {
     "data": {
      "text/plain": [
       "[('e', 167), ('t', 124), ('a', 102)]"
      ]
     },
     "execution_count": 43,
     "metadata": {},
     "output_type": "execute_result"
    }
   ],
   "source": [
    "address_count.most_common(3)"
   ]
  },
  {
   "cell_type": "code",
   "execution_count": null,
   "metadata": {
    "collapsed": true
   },
   "outputs": [],
   "source": []
  },
  {
   "cell_type": "code",
   "execution_count": null,
   "metadata": {
    "collapsed": true
   },
   "outputs": [],
   "source": []
  },
  {
   "cell_type": "code",
   "execution_count": null,
   "metadata": {
    "collapsed": true
   },
   "outputs": [],
   "source": []
  },
  {
   "cell_type": "code",
   "execution_count": null,
   "metadata": {
    "collapsed": true
   },
   "outputs": [],
   "source": []
  },
  {
   "cell_type": "code",
   "execution_count": null,
   "metadata": {
    "collapsed": true
   },
   "outputs": [],
   "source": []
  },
  {
   "cell_type": "code",
   "execution_count": null,
   "metadata": {
    "collapsed": true
   },
   "outputs": [],
   "source": []
  },
  {
   "cell_type": "code",
   "execution_count": null,
   "metadata": {
    "collapsed": true
   },
   "outputs": [],
   "source": []
  },
  {
   "cell_type": "code",
   "execution_count": null,
   "metadata": {
    "collapsed": true
   },
   "outputs": [],
   "source": []
  },
  {
   "cell_type": "code",
   "execution_count": null,
   "metadata": {
    "collapsed": true
   },
   "outputs": [],
   "source": []
  },
  {
   "cell_type": "code",
   "execution_count": null,
   "metadata": {
    "collapsed": true
   },
   "outputs": [],
   "source": []
  },
  {
   "cell_type": "code",
   "execution_count": null,
   "metadata": {
    "collapsed": true
   },
   "outputs": [],
   "source": []
  },
  {
   "cell_type": "code",
   "execution_count": null,
   "metadata": {
    "collapsed": true
   },
   "outputs": [],
   "source": []
  },
  {
   "cell_type": "code",
   "execution_count": null,
   "metadata": {
    "collapsed": true
   },
   "outputs": [],
   "source": []
  }
 ],
 "metadata": {
  "kernelspec": {
   "display_name": "Python [Root]",
   "language": "python",
   "name": "Python [Root]"
  },
  "language_info": {
   "codemirror_mode": {
    "name": "ipython",
    "version": 3
   },
   "file_extension": ".py",
   "mimetype": "text/x-python",
   "name": "python",
   "nbconvert_exporter": "python",
   "pygments_lexer": "ipython3",
   "version": "3.5.2"
  }
 },
 "nbformat": 4,
 "nbformat_minor": 0
}
